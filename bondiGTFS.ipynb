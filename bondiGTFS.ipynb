{
 "cells": [
  {
   "cell_type": "code",
   "execution_count": null,
   "metadata": {
    "collapsed": true
   },
   "outputs": [],
   "source": [
    "# en base a una hora, seleccionar los datos e ir visualizando "
   ]
  },
  {
   "cell_type": "code",
   "execution_count": 1,
   "metadata": {
    "collapsed": true
   },
   "outputs": [],
   "source": [
    "import pandas as pd\n",
    "import geopandas as gpd\n",
    "import time\n",
    "import datetime"
   ]
  },
  {
   "cell_type": "code",
   "execution_count": 2,
   "metadata": {
    "collapsed": true
   },
   "outputs": [],
   "source": [
    "stops = pd.read_csv('colectivos-gtfs/stops.txt').dropna(axis=1)\n",
    "routes = pd.read_csv('colectivos-gtfs/routes.txt').dropna(axis=1)\n",
    "trips = pd.read_csv('colectivos-gtfs/trips.txt').dropna(axis=1)\n",
    "stopTimes = pd.read_csv('colectivos-gtfs/stop_times.txt').dropna(axis=1)\n",
    "calendar = pd.read_csv('colectivos-gtfs/calendar.txt').dropna(axis=1)\n",
    "shapes = pd.read_csv('colectivos-gtfs/shapes.txt').dropna(axis=1)\n",
    "#frequencies = pd.read_csv('colectivos-gtfs/frequencies.txt').dropna(axis=1)\n",
    "#https://github.com/ManushiM/CartoCamp_Workshops/blob/master/Workshop2_May2017/CartoCamp_D3.ipynb\n",
    "#https://stackoverflow.com/questions/29134048/how-do-i-animate-points-down-a-path-on-a-map-in-d3-js"
   ]
  },
  {
   "cell_type": "code",
   "execution_count": 3,
   "metadata": {
    "collapsed": false
   },
   "outputs": [
    {
     "data": {
      "text/html": [
       "<div>\n",
       "<table border=\"1\" class=\"dataframe\">\n",
       "  <thead>\n",
       "    <tr style=\"text-align: right;\">\n",
       "      <th></th>\n",
       "      <th>route_id</th>\n",
       "      <th>agency_id</th>\n",
       "      <th>route_short_name</th>\n",
       "      <th>route_long_name</th>\n",
       "      <th>route_desc</th>\n",
       "      <th>route_type</th>\n",
       "    </tr>\n",
       "  </thead>\n",
       "  <tbody>\n",
       "    <tr>\n",
       "      <th>8</th>\n",
       "      <td>60</td>\n",
       "      <td>1</td>\n",
       "      <td>26</td>\n",
       "      <td>26</td>\n",
       "      <td>Barrio Rivadavia (Capital Federal) - Retiro (C...</td>\n",
       "      <td>3</td>\n",
       "    </tr>\n",
       "    <tr>\n",
       "      <th>9</th>\n",
       "      <td>618</td>\n",
       "      <td>1</td>\n",
       "      <td>26</td>\n",
       "      <td>26</td>\n",
       "      <td>Barrio Rivadavia (Capital Federal) - Retiro (C...</td>\n",
       "      <td>3</td>\n",
       "    </tr>\n",
       "  </tbody>\n",
       "</table>\n",
       "</div>"
      ],
      "text/plain": [
       "   route_id  agency_id  route_short_name  route_long_name  \\\n",
       "8        60          1                26               26   \n",
       "9       618          1                26               26   \n",
       "\n",
       "                                          route_desc  route_type  \n",
       "8  Barrio Rivadavia (Capital Federal) - Retiro (C...           3  \n",
       "9  Barrio Rivadavia (Capital Federal) - Retiro (C...           3  "
      ]
     },
     "execution_count": 3,
     "metadata": {},
     "output_type": "execute_result"
    }
   ],
   "source": [
    "#bondi 26\n",
    "linea26 = routes[routes.route_short_name==26]\n",
    "linea26"
   ]
  },
  {
   "cell_type": "code",
   "execution_count": 4,
   "metadata": {
    "collapsed": false
   },
   "outputs": [
    {
     "data": {
      "text/html": [
       "<div>\n",
       "<table border=\"1\" class=\"dataframe\">\n",
       "  <thead>\n",
       "    <tr style=\"text-align: right;\">\n",
       "      <th></th>\n",
       "      <th>route_id</th>\n",
       "      <th>service_id</th>\n",
       "      <th>trip_id</th>\n",
       "      <th>trip_short_name</th>\n",
       "      <th>direction_id</th>\n",
       "      <th>shape_id</th>\n",
       "    </tr>\n",
       "  </thead>\n",
       "  <tbody>\n",
       "    <tr>\n",
       "      <th>944</th>\n",
       "      <td>60</td>\n",
       "      <td>2</td>\n",
       "      <td>4383147</td>\n",
       "      <td>2910</td>\n",
       "      <td>0</td>\n",
       "      <td>8787</td>\n",
       "    </tr>\n",
       "    <tr>\n",
       "      <th>945</th>\n",
       "      <td>60</td>\n",
       "      <td>2</td>\n",
       "      <td>1765290576530</td>\n",
       "      <td>11441</td>\n",
       "      <td>0</td>\n",
       "      <td>8787</td>\n",
       "    </tr>\n",
       "    <tr>\n",
       "      <th>946</th>\n",
       "      <td>60</td>\n",
       "      <td>2</td>\n",
       "      <td>1765290576699</td>\n",
       "      <td>11442</td>\n",
       "      <td>0</td>\n",
       "      <td>8787</td>\n",
       "    </tr>\n",
       "    <tr>\n",
       "      <th>947</th>\n",
       "      <td>60</td>\n",
       "      <td>2</td>\n",
       "      <td>1765290576868</td>\n",
       "      <td>11443</td>\n",
       "      <td>0</td>\n",
       "      <td>8787</td>\n",
       "    </tr>\n",
       "    <tr>\n",
       "      <th>948</th>\n",
       "      <td>60</td>\n",
       "      <td>2</td>\n",
       "      <td>1765290577037</td>\n",
       "      <td>11444</td>\n",
       "      <td>0</td>\n",
       "      <td>8787</td>\n",
       "    </tr>\n",
       "  </tbody>\n",
       "</table>\n",
       "</div>"
      ],
      "text/plain": [
       "     route_id  service_id        trip_id  trip_short_name  direction_id  \\\n",
       "944        60           2        4383147             2910             0   \n",
       "945        60           2  1765290576530            11441             0   \n",
       "946        60           2  1765290576699            11442             0   \n",
       "947        60           2  1765290576868            11443             0   \n",
       "948        60           2  1765290577037            11444             0   \n",
       "\n",
       "     shape_id  \n",
       "944      8787  \n",
       "945      8787  \n",
       "946      8787  \n",
       "947      8787  \n",
       "948      8787  "
      ]
     },
     "execution_count": 4,
     "metadata": {},
     "output_type": "execute_result"
    }
   ],
   "source": [
    "#viajes de la linea 26\n",
    "viajes26 = trips[trips.route_id==60]\n",
    "viajes26.head()"
   ]
  },
  {
   "cell_type": "code",
   "execution_count": 6,
   "metadata": {
    "collapsed": false
   },
   "outputs": [],
   "source": [
    "paradas26 = stops[stops.stop_id.isin(viaje26.stop_id)]\n",
    "paradas26.to_csv('paradas26.csv')"
   ]
  },
  {
   "cell_type": "code",
   "execution_count": 8,
   "metadata": {
    "collapsed": false
   },
   "outputs": [
    {
     "data": {
      "text/html": [
       "<div>\n",
       "<table border=\"1\" class=\"dataframe\">\n",
       "  <thead>\n",
       "    <tr style=\"text-align: right;\">\n",
       "      <th></th>\n",
       "      <th>arrival_time</th>\n",
       "      <th>stop_lat</th>\n",
       "      <th>stop_lon</th>\n",
       "    </tr>\n",
       "  </thead>\n",
       "  <tbody>\n",
       "    <tr>\n",
       "      <th>0</th>\n",
       "      <td>1900-01-01 00:00:00</td>\n",
       "      <td>-34.587823</td>\n",
       "      <td>-58.368679</td>\n",
       "    </tr>\n",
       "    <tr>\n",
       "      <th>2</th>\n",
       "      <td>1900-01-01 00:02:00</td>\n",
       "      <td>-34.589636</td>\n",
       "      <td>-58.370079</td>\n",
       "    </tr>\n",
       "    <tr>\n",
       "      <th>3</th>\n",
       "      <td>1900-01-01 00:05:00</td>\n",
       "      <td>-34.589153</td>\n",
       "      <td>-58.372513</td>\n",
       "    </tr>\n",
       "    <tr>\n",
       "      <th>4</th>\n",
       "      <td>1900-01-01 00:07:00</td>\n",
       "      <td>-34.591756</td>\n",
       "      <td>-58.374527</td>\n",
       "    </tr>\n",
       "    <tr>\n",
       "      <th>5</th>\n",
       "      <td>1900-01-01 00:11:00</td>\n",
       "      <td>-34.596670</td>\n",
       "      <td>-58.372078</td>\n",
       "    </tr>\n",
       "  </tbody>\n",
       "</table>\n",
       "</div>"
      ],
      "text/plain": [
       "         arrival_time   stop_lat   stop_lon\n",
       "0 1900-01-01 00:00:00 -34.587823 -58.368679\n",
       "2 1900-01-01 00:02:00 -34.589636 -58.370079\n",
       "3 1900-01-01 00:05:00 -34.589153 -58.372513\n",
       "4 1900-01-01 00:07:00 -34.591756 -58.374527\n",
       "5 1900-01-01 00:11:00 -34.596670 -58.372078"
      ]
     },
     "execution_count": 8,
     "metadata": {},
     "output_type": "execute_result"
    }
   ],
   "source": [
    "#cronograma de un viaje\n",
    "idViaje = viajes26.iloc[1].trip_id\n",
    "viaje26 = stopTimes[stopTimes.trip_id==idViaje]\n",
    "#solo arrival, departure es redundante\n",
    "viaje26.arrival_time = pd.to_datetime(viaje26.arrival_time,format= '%H:%M:%S',errors='coerce',exact=True)\n",
    "#traigo geodata de estaciones\n",
    "viaje26 = viaje26.merge(paradas26.loc[:,['stop_id','stop_lat','stop_lon']], how = 'left')\n",
    "\n",
    "viaje26.drop(['timepoint','trip_id','departure_time','stop_id','shape_dist_traveled','stop_sequence'],axis=1,inplace=True) \n",
    "#ordenar por tiempo y borrar repetidos\n",
    "viaje26.sort_values(by=['arrival_time'], inplace=True)\n",
    "duplicados = viaje26.arrival_time.duplicated(keep='first')\n",
    "viaje26 = viaje26.loc[~ duplicados,:]\n",
    "\n",
    "viaje26.head()"
   ]
  },
  {
   "cell_type": "code",
   "execution_count": null,
   "metadata": {
    "collapsed": false
   },
   "outputs": [],
   "source": [
    "viaje26['duracion'] = (viaje26.arrival_time - viaje26.arrival_time.shift(1))\n",
    "viaje26['duracion'].iloc[0]=0\n",
    "viaje26['duracion'] = viaje26['duracion'].map(lambda x: x.seconds)\n",
    "viaje26.head()"
   ]
  },
  {
   "cell_type": "code",
   "execution_count": null,
   "metadata": {
    "collapsed": false
   },
   "outputs": [],
   "source": [
    "now = datetime.datetime.now()\n",
    "now.minute\n",
    "\n"
   ]
  },
  {
   "cell_type": "code",
   "execution_count": null,
   "metadata": {
    "collapsed": false
   },
   "outputs": [],
   "source": [
    "shapeViaje26 = shapes[shapes.shape_id == viajes26.shape_id.unique()[0]]\n",
    "shapeViaje26.to_csv('shapeviaje26.csv')\n"
   ]
  },
  {
   "cell_type": "code",
   "execution_count": null,
   "metadata": {
    "collapsed": true
   },
   "outputs": [],
   "source": []
  }
 ],
 "metadata": {
  "anaconda-cloud": {},
  "kernelspec": {
   "display_name": "Python [default]",
   "language": "python",
   "name": "python2"
  },
  "language_info": {
   "codemirror_mode": {
    "name": "ipython",
    "version": 2
   },
   "file_extension": ".py",
   "mimetype": "text/x-python",
   "name": "python",
   "nbconvert_exporter": "python",
   "pygments_lexer": "ipython2",
   "version": "2.7.12"
  }
 },
 "nbformat": 4,
 "nbformat_minor": 2
}
